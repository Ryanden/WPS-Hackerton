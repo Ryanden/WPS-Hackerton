{
 "cells": [
  {
   "cell_type": "code",
   "execution_count": 1,
   "metadata": {},
   "outputs": [],
   "source": [
    "from bs4 import BeautifulSoup\n",
    "import os\n",
    "from bs4 import BeautifulSoup\n",
    "from selenium import webdriver\n",
    "import time\n",
    "import re\n"
   ]
  },
  {
   "cell_type": "code",
   "execution_count": 2,
   "metadata": {},
   "outputs": [],
   "source": [
    "\n",
    "\n",
    "class WadizCrawler:\n",
    "\n",
    "    def __init__(self, title, type1, type2, cost, remain):\n",
    "        self.title = title\n",
    "        self.type1 = type1\n",
    "        self.type2 = type2\n",
    "        self.cost = cost\n",
    "        self.remain = remain\n",
    "\n",
    "        \n",
    "    # html파일을 만듦    \n",
    "    @classmethod\n",
    "    def create_html(cls):\n",
    "        # 와디즈 reward 메인 사이트\n",
    "        url = 'https://www.wadiz.kr/web/wreward/main'\n",
    "\n",
    "        file_path = 'data/wadiz_reward_list.html'\n",
    "\n",
    "        driver = webdriver.Chrome('driver/chromedriver')\n",
    "\n",
    "        driver.get(url)\n",
    "\n",
    "        time.sleep(2)\n",
    "\n",
    "        if not os.path.exists(file_path):\n",
    "\n",
    "            html = driver.page_source\n",
    "\n",
    "            open(file_path, 'wt').write(html)\n",
    "\n",
    "        else:\n",
    "            open(file_path, 'rt').read()\n",
    "\n",
    "        driver.close()\n",
    "\n",
    "    @classmethod\n",
    "    def get_reward_list(cls):\n",
    "        file_path = 'menu/data/wadiz_reward_list.html'\n",
    "\n",
    "        html = open(file_path, 'rt').read()\n",
    "\n",
    "        soup = BeautifulSoup(html, 'lxml')\n",
    "        \n",
    "        wadiz_list = []\n",
    "\n",
    "        ul_contents = soup.select(\"ul._34FDqXUubQC345dbhWBh3o li\")\n",
    "\n",
    "        for content in ul_contents:\n",
    "\n",
    "            content_title = content.select_one('a > h4').get_text(strip=True)\n",
    "\n",
    "            content_type = content.select_one('a > span').get_text(strip=True)\n",
    "\n",
    "            content_type2 = content.select_one('button > span').get_text(strip=True)\n",
    "\n",
    "            content_cost = content.select_one('span:nth-of-type(5)').get_text(strip=True)\n",
    "\n",
    "            content_remain = content.select_one('span:nth-of-type(7)').get_text(strip=True)\n",
    "\n",
    "            content_instant = WadizCrawler(\n",
    "                title=content_title,\n",
    "                type1=content_type,\n",
    "                type2=content_type2,\n",
    "                cost=content_cost,\n",
    "                remain=content_remain\n",
    "            )\n",
    "\n",
    "            wadiz_list.append(content_instant)\n",
    "\n",
    "        for item in wadiz_list:\n",
    "            print(item)\n",
    "            \n",
    "    @classmethod\n",
    "    def get_reward_detail(cls):\n",
    "        pass\n",
    "\n",
    "    def __str__(self):\n",
    "        return f'이름: {self.title} / 종류:{self.type1} / 회사: {self.type2} / 가격: {self.cost} / 남은시간:{self.remain} '"
   ]
  },
  {
   "cell_type": "code",
   "execution_count": 3,
   "metadata": {},
   "outputs": [],
   "source": [
    "#WadizCrawler.get_reward_list()"
   ]
  },
  {
   "cell_type": "code",
   "execution_count": 4,
   "metadata": {},
   "outputs": [],
   "source": [
    "target = '/web/campaign/detail/21511'"
   ]
  },
  {
   "cell_type": "code",
   "execution_count": 5,
   "metadata": {},
   "outputs": [
    {
     "name": "stdout",
     "output_type": "stream",
     "text": [
      "['21511']\n"
     ]
    }
   ],
   "source": [
    "test = re.findall(r'detail/(\\w*)', target)\n",
    "\n",
    "print(test)"
   ]
  },
  {
   "cell_type": "code",
   "execution_count": 6,
   "metadata": {},
   "outputs": [
    {
     "name": "stdout",
     "output_type": "stream",
     "text": [
      "['21673']\n",
      "['21511']\n",
      "['19973']\n",
      "['19076']\n",
      "['21694']\n",
      "['17635']\n",
      "['19029']\n",
      "['21767']\n",
      "['21379']\n",
      "['21231']\n",
      "['19853']\n",
      "['21728']\n",
      "['17307']\n",
      "['20864']\n",
      "['20874']\n",
      "['21745']\n",
      "['21002']\n",
      "['21485']\n",
      "['21247']\n",
      "['19605']\n",
      "['14676']\n",
      "['21816']\n",
      "['21819']\n",
      "['20912']\n",
      "['21690']\n",
      "['19924']\n",
      "['20713']\n",
      "['20855']\n",
      "['21408']\n",
      "['20936']\n",
      "['20405']\n",
      "['18599']\n",
      "['21242']\n",
      "['19705']\n",
      "['21396']\n",
      "['21096']\n",
      "['17438']\n",
      "['21352']\n",
      "['15409']\n",
      "['19827']\n",
      "['21205']\n",
      "['21206']\n",
      "['20697']\n",
      "['19753']\n",
      "['21553']\n",
      "['21771']\n",
      "['21085']\n",
      "['20923']\n"
     ]
    }
   ],
   "source": [
    "file_path = 'menu/data/wadiz_reward_list.html'\n",
    "\n",
    "html = open(file_path, 'rt').read()\n",
    "\n",
    "soup = BeautifulSoup(html, 'lxml')\n",
    "\n",
    "wadiz_list = []\n",
    "\n",
    "ul_contents = soup.select(\"ul._34FDqXUubQC345dbhWBh3o li\")\n",
    "\n",
    "for content in ul_contents:\n",
    "    url = re.findall(r'detail/(\\w*)', content.select_one('a').get('href'))\n",
    "    \n",
    "    print(url)"
   ]
  },
  {
   "cell_type": "code",
   "execution_count": 7,
   "metadata": {},
   "outputs": [],
   "source": [
    "temp_str = ' background-image: url(\"https://cdn.wadiz.kr/wwwwadiz/green002/2018/0627/20180627145058815_21553.jpg/wadiz/resize/600/ormat/jpg/quality/95/optimize\");'"
   ]
  },
  {
   "cell_type": "code",
   "execution_count": null,
   "metadata": {},
   "outputs": [],
   "source": [
    "re_str = re.findall(r'url\\(\"(\\S*)\"\\)', temp_str)\n",
    "print(','.join(re_str))"
   ]
  },
  {
   "cell_type": "code",
   "execution_count": null,
   "metadata": {},
   "outputs": [],
   "source": []
  },
  {
   "cell_type": "code",
   "execution_count": null,
   "metadata": {},
   "outputs": [],
   "source": []
  },
  {
   "cell_type": "code",
   "execution_count": 9,
   "metadata": {},
   "outputs": [],
   "source": [
    "get_number = '44,827,500원'"
   ]
  },
  {
   "cell_type": "code",
   "execution_count": 22,
   "metadata": {},
   "outputs": [
    {
     "name": "stdout",
     "output_type": "stream",
     "text": [
      "44827500\n"
     ]
    }
   ],
   "source": [
    "str_number = re.findall('(\\d)', get_number)\n",
    "print(''.join(str_number))"
   ]
  },
  {
   "cell_type": "code",
   "execution_count": 1,
   "metadata": {},
   "outputs": [
    {
     "name": "stdout",
     "output_type": "stream",
     "text": [
      "9\n"
     ]
    }
   ],
   "source": [
    "num_list = []\n",
    "for num in range(1,10):\n",
    "    num_list.append(num)\n",
    "    \n",
    "print(num_list[len(num_list) - 1])"
   ]
  },
  {
   "cell_type": "code",
   "execution_count": null,
   "metadata": {},
   "outputs": [],
   "source": []
  }
 ],
 "metadata": {
  "kernelspec": {
   "display_name": "Python 3",
   "language": "python",
   "name": "python3"
  },
  "language_info": {
   "codemirror_mode": {
    "name": "ipython",
    "version": 3
   },
   "file_extension": ".py",
   "mimetype": "text/x-python",
   "name": "python",
   "nbconvert_exporter": "python",
   "pygments_lexer": "ipython3",
   "version": "3.6.5"
  }
 },
 "nbformat": 4,
 "nbformat_minor": 2
}
